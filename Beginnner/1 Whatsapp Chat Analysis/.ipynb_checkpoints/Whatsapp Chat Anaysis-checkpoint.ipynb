{
 "cells": [
  {
   "cell_type": "code",
   "execution_count": null,
   "metadata": {},
   "outputs": [],
   "source": [
    "import regex\n",
    "import pandas as pd\n",
    "import numpy as np\n",
    "from collections import Counter\n",
    "from wordcloud import WordCloud, STOPWORDS, ImageColorGenerator"
   ]
  },
  {
   "cell_type": "code",
   "execution_count": null,
   "metadata": {},
   "outputs": [],
   "source": [
    " def date_time(s):\n",
    "    pattern = '^([0-9]+)(\\/)([0-9]+)(\\/)([0-9]+), ([0-9]+):([0-9]+)[ ]?(AM|PM|am|pm)? -'\n",
    "    result = regex.match(pattern, s)\n",
    "    if result:\n",
    "        return True\n",
    "    return False\n"
   ]
  },
  {
   "cell_type": "code",
   "execution_count": null,
   "metadata": {},
   "outputs": [],
   "source": []
  },
  {
   "cell_type": "code",
   "execution_count": null,
   "metadata": {},
   "outputs": [],
   "source": [
    "def getDatapoint(line):\n",
    "    splitline = line.split(\"-\")\n",
    "    dateTime = splitline[0]\n",
    "    date, time = dateTime.split(\", \")\n",
    "    "
   ]
  },
  {
   "cell_type": "code",
   "execution_count": null,
   "metadata": {},
   "outputs": [],
   "source": [
    "data = []\n",
    "conversation = \"WhatsApp Chat with Padosan TRUBA.txt\"\n",
    "\n",
    "with open(conversation, encoding='utf8') as fp:\n",
    "    fp.readline()\n",
    "    messageBuffer = []\n",
    "    date, time, author = None, None, None\n",
    "    while True:\n",
    "        line = fp.readline()\n",
    "        if not line:\n",
    "            break\n",
    "        line = line.strip()\n",
    "        if date_time(line):\n",
    "            if len(messageBuffer) > 0:\n",
    "                data.append([date, time, author, \"\".join(messageBuffer)])\n",
    "            messageBuffer.clear()\n",
    "            date, time, author, message = getDatapoint(line)"
   ]
  },
  {
   "cell_type": "code",
   "execution_count": null,
   "metadata": {},
   "outputs": [],
   "source": []
  },
  {
   "cell_type": "code",
   "execution_count": null,
   "metadata": {},
   "outputs": [],
   "source": []
  },
  {
   "cell_type": "code",
   "execution_count": null,
   "metadata": {},
   "outputs": [],
   "source": []
  },
  {
   "cell_type": "code",
   "execution_count": null,
   "metadata": {},
   "outputs": [],
   "source": []
  },
  {
   "cell_type": "code",
   "execution_count": null,
   "metadata": {},
   "outputs": [],
   "source": [
    "def datetime(part):\n",
    "    formats = \"\""
   ]
  },
  {
   "cell_type": "code",
   "execution_count": 8,
   "metadata": {
    "scrolled": true
   },
   "outputs": [
    {
     "name": "stdout",
     "output_type": "stream",
     "text": [
      "18/10/20 4:24 pm \n",
      "18/10/20 10:21 pm \n",
      "24/10/20 8:01 pm \n",
      "24/10/20 10:39 pm \n",
      "24/10/20 10:40 pm \n",
      "10/11/20 2:01 pm \n",
      "13/11/20 7:55 pm \n",
      "17/05/21 11:38 pm \n",
      "17/05/21 11:39 pm \n",
      "20/05/21 11:29 pm \n",
      "20/05/21 11:29 pm \n",
      "20/05/21 11:29 pm \n",
      "20/05/21 11:29 pm \n",
      "21/05/21 1:06 am \n",
      "21/05/21 8:35 am \n",
      "21/05/21 9:41 am \n",
      "21/05/21 11:29 am \n",
      "21/05/21 11:30 am \n",
      "21/05/21 11:30 am \n",
      "21/05/21 11:30 am \n",
      "21/05/21 11:31 am \n",
      "21/05/21 11:31 am \n",
      "21/05/21 11:31 am \n",
      "21/05/21 11:31 am \n",
      "21/05/21 11:32 am \n",
      "21/05/21 11:32 am \n",
      "21/05/21 11:32 am \n",
      "22/05/21 12:19 pm \n",
      "22/05/21 12:19 pm \n",
      "22/05/21 12:22 pm \n",
      "22/05/21 2:15 pm \n",
      "22/05/21 9:55 pm \n",
      "23/05/21 11:41 am \n",
      "24/05/21 1:11 am \n",
      "24/05/21 7:37 am \n",
      "25/05/21 10:21 pm \n",
      "26/05/21 6:52 pm \n",
      "27/05/21 2:33 pm \n",
      "30/05/21 12:01 am \n",
      "30/05/21 12:08 am \n",
      "30/05/21 12:09 am \n",
      "30/05/21 12:09 am \n",
      "30/05/21 12:09 am \n",
      "30/05/21 12:11 am \n",
      "30/05/21 12:11 am \n",
      "30/05/21 12:11 am \n",
      "30/05/21 12:11 am \n",
      "30/05/21 12:12 am \n",
      "30/05/21 12:12 am \n",
      "30/05/21 12:12 am \n",
      "30/05/21 12:13 am \n",
      "30/05/21 12:13 am \n"
     ]
    }
   ],
   "source": [
    "with open('WhatsApp Chat with Padosan TRUBA.txt', encoding='utf8') as file:\n",
    "    chats = file.readlines()\n",
    "    for i in chats:\n",
    "        splitted = i.split(\"-\")\n",
    "        if len(splitted) == 2:\n",
    "            date, time = splitted[0].split(\", \")\n",
    "            print(date, time)"
   ]
  },
  {
   "cell_type": "code",
   "execution_count": null,
   "metadata": {},
   "outputs": [],
   "source": []
  }
 ],
 "metadata": {
  "kernelspec": {
   "display_name": "Python 3",
   "language": "python",
   "name": "python3"
  },
  "language_info": {
   "codemirror_mode": {
    "name": "ipython",
    "version": 3
   },
   "file_extension": ".py",
   "mimetype": "text/x-python",
   "name": "python",
   "nbconvert_exporter": "python",
   "pygments_lexer": "ipython3",
   "version": "3.6.6"
  }
 },
 "nbformat": 4,
 "nbformat_minor": 4
}
